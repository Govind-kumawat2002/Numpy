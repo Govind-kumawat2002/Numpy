{
 "cells": [
  {
   "cell_type": "markdown",
   "metadata": {},
   "source": [
    "<span style=\"font-size: 50px; color: green;\">**Pandas**</span>\n",
    "\n",
    "    Pandas is a Python library.\n",
    "    Pandas is used to analyze data.\n",
    "![Local Image](pandas_notes.png)\n",
    "\n",
    "     What is Pandas?\n",
    "* Pandas is a Python library used for working with data sets.\n",
    "\n",
    "* It has functions for analyzing, cleaning, exploring, and manipulating data.\n",
    "\n",
    "* The name \"Pandas\" has a reference to both \"Panel Data\", and \"Python Data Analysis\" and was created by Wes McKinney in 2008.\n",
    "\n",
    "       Why Use Pandas?\n",
    "* Pandas allows us to analyze big data and make conclusions based on statistical theories.\n",
    "\n",
    "* Pandas can clean messy data sets, and make them readable and relevant.\n",
    "\n",
    "* Relevant data is very important in data science.\n"
   ]
  },
  {
   "cell_type": "code",
   "execution_count": null,
   "metadata": {},
   "outputs": [],
   "source": [
    "# <span style=\"color: red;\">Python</span>  \n"
   ]
  }
 ],
 "metadata": {
  "language_info": {
   "name": "python"
  }
 },
 "nbformat": 4,
 "nbformat_minor": 2
}
