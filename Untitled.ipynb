{
 "cells": [
  {
   "cell_type": "code",
   "execution_count": 1,
   "id": "81cce16a-2b62-4ffe-9ff7-42a6a8c59ddc",
   "metadata": {},
   "outputs": [
    {
     "name": "stdout",
     "output_type": "stream",
     "text": [
      "hello world\n"
     ]
    }
   ],
   "source": [
    "print('hello world')"
   ]
  },
  {
   "cell_type": "code",
   "execution_count": 2,
   "id": "4433ccc1-10e0-4a67-aa20-37bec08e9903",
   "metadata": {},
   "outputs": [
    {
     "name": "stdout",
     "output_type": "stream",
     "text": [
      "<class 'list'>\n"
     ]
    }
   ],
   "source": [
    "# ndarray\n",
    "\n",
    "lst = [[[2,5,4,6,8,9,7,5],[2,5,4,6,8,9,7,5]]]\n",
    "print(type(lst))\n"
   ]
  },
  {
   "cell_type": "code",
   "execution_count": 3,
   "id": "ab7b31fc-3540-4aa4-a8fd-f142f417b656",
   "metadata": {},
   "outputs": [],
   "source": [
    "import numpy as np "
   ]
  },
  {
   "cell_type": "code",
   "execution_count": 4,
   "id": "93f66f85-ca64-4855-abc2-b166c8772c6e",
   "metadata": {},
   "outputs": [
    {
     "data": {
      "text/plain": [
       "array([25, 41, 45, 63, 85, 78, 96])"
      ]
     },
     "execution_count": 4,
     "metadata": {},
     "output_type": "execute_result"
    }
   ],
   "source": [
    "arr = np.array([25,41,45,63,85,78,96])\n",
    "arr"
   ]
  },
  {
   "cell_type": "code",
   "execution_count": 5,
   "id": "fda63ebf-fa4c-48b7-813a-312ad11355d3",
   "metadata": {},
   "outputs": [
    {
     "data": {
      "text/plain": [
       "array([45, 63])"
      ]
     },
     "execution_count": 5,
     "metadata": {},
     "output_type": "execute_result"
    }
   ],
   "source": [
    "arr[2:4:1]"
   ]
  },
  {
   "cell_type": "code",
   "execution_count": 6,
   "id": "144c78d8-fe9e-4861-9b67-95bee6b1cda9",
   "metadata": {},
   "outputs": [
    {
     "data": {
      "text/plain": [
       "array([96, 78, 85, 63])"
      ]
     },
     "execution_count": 6,
     "metadata": {},
     "output_type": "execute_result"
    }
   ],
   "source": [
    "arr[-1:-5:-1]"
   ]
  },
  {
   "cell_type": "code",
   "execution_count": 7,
   "id": "3b310855-d632-4680-90d0-cf5b8d4b1b43",
   "metadata": {},
   "outputs": [
    {
     "data": {
      "text/plain": [
       "array([96, 78, 85, 63, 45, 41, 25])"
      ]
     },
     "execution_count": 7,
     "metadata": {},
     "output_type": "execute_result"
    }
   ],
   "source": [
    "arr[::-1]"
   ]
  },
  {
   "cell_type": "code",
   "execution_count": 8,
   "id": "ff6acd28-f38c-435f-85a0-2f8c1a22fed0",
   "metadata": {},
   "outputs": [
    {
     "data": {
      "text/plain": [
       "array([25, 41, 45, 63, 85, 78, 96])"
      ]
     },
     "execution_count": 8,
     "metadata": {},
     "output_type": "execute_result"
    }
   ],
   "source": [
    "arr[::]"
   ]
  },
  {
   "cell_type": "code",
   "execution_count": 9,
   "id": "60c7f880-3701-497e-b849-a89d94ec59bb",
   "metadata": {},
   "outputs": [
    {
     "data": {
      "text/plain": [
       "dtype('int64')"
      ]
     },
     "execution_count": 9,
     "metadata": {},
     "output_type": "execute_result"
    }
   ],
   "source": [
    "arr.dtype"
   ]
  },
  {
   "cell_type": "code",
   "execution_count": 10,
   "id": "fe670ca1-184a-47e0-bc0d-ef76b0969ecb",
   "metadata": {},
   "outputs": [
    {
     "data": {
      "text/plain": [
       "array([25. , 41. , 45. , 63. , 85. , 78. , 96. , 20.5])"
      ]
     },
     "execution_count": 10,
     "metadata": {},
     "output_type": "execute_result"
    }
   ],
   "source": [
    "arr = np.array([25,41,45,63,85,78,96,20.5])\n",
    "arr"
   ]
  },
  {
   "cell_type": "code",
   "execution_count": 11,
   "id": "0ca641ae-93ec-40ea-a490-1756f22225d5",
   "metadata": {},
   "outputs": [
    {
     "data": {
      "text/plain": [
       "dtype('float64')"
      ]
     },
     "execution_count": 11,
     "metadata": {},
     "output_type": "execute_result"
    }
   ],
   "source": [
    "arr.dtype"
   ]
  },
  {
   "cell_type": "code",
   "execution_count": 12,
   "id": "f7109280-d68f-478e-9df1-d981ecd3783a",
   "metadata": {},
   "outputs": [
    {
     "data": {
      "text/plain": [
       "numpy.ndarray"
      ]
     },
     "execution_count": 12,
     "metadata": {},
     "output_type": "execute_result"
    }
   ],
   "source": [
    "type(arr)"
   ]
  },
  {
   "cell_type": "code",
   "execution_count": 13,
   "id": "fd849dc0-495b-4343-aa70-3a818496765c",
   "metadata": {},
   "outputs": [
    {
     "data": {
      "text/plain": [
       "array(['hello', 'world', 'upflairs', '85'], dtype='<U21')"
      ]
     },
     "execution_count": 13,
     "metadata": {},
     "output_type": "execute_result"
    }
   ],
   "source": [
    "arr = np.array(['hello','world','upflairs',85])\n",
    "arr"
   ]
  },
  {
   "cell_type": "code",
   "execution_count": 14,
   "id": "65fa2bed-f97a-4751-8689-0f2b53d158bc",
   "metadata": {},
   "outputs": [
    {
     "data": {
      "text/plain": [
       "dtype('<U21')"
      ]
     },
     "execution_count": 14,
     "metadata": {},
     "output_type": "execute_result"
    }
   ],
   "source": [
    "arr.dtype"
   ]
  },
  {
   "cell_type": "code",
   "execution_count": 15,
   "id": "bb8b0020-3997-4ed2-bbc4-3f85e66c99cb",
   "metadata": {},
   "outputs": [
    {
     "data": {
      "text/plain": [
       "'upflairs pvt ltd'"
      ]
     },
     "execution_count": 15,
     "metadata": {},
     "output_type": "execute_result"
    }
   ],
   "source": [
    "st = 'upflairs pvt ltd'\n",
    "st "
   ]
  },
  {
   "cell_type": "code",
   "execution_count": 16,
   "id": "3ab186d3-90f9-4d56-9051-f4ebfc73601d",
   "metadata": {},
   "outputs": [
    {
     "name": "stderr",
     "output_type": "stream",
     "text": [
      "<>:2: SyntaxWarning: 'int' object is not callable; perhaps you missed a comma?\n",
      "<>:2: SyntaxWarning: 'int' object is not callable; perhaps you missed a comma?\n",
      "/tmp/ipykernel_13526/1544383234.py:2: SyntaxWarning: 'int' object is not callable; perhaps you missed a comma?\n",
      "  0,0,0,0,0,0,0,0,0(\"\")(\"\")\n",
      "/tmp/ipykernel_13526/1544383234.py:2: SyntaxWarning: 'int' object is not callable; perhaps you missed a comma?\n",
      "  0,0,0,0,0,0,0,0,0(\"\")(\"\")\n",
      "/tmp/ipykernel_13526/1544383234.py:2: SyntaxWarning: 'int' object is not callable; perhaps you missed a comma?\n",
      "  0,0,0,0,0,0,0,0,0(\"\")(\"\")\n",
      "/tmp/ipykernel_13526/1544383234.py:2: SyntaxWarning: 'int' object is not callable; perhaps you missed a comma?\n",
      "  0,0,0,0,0,0,0,0,0(\"\")(\"\")\n"
     ]
    },
    {
     "ename": "TypeError",
     "evalue": "'int' object is not callable",
     "output_type": "error",
     "traceback": [
      "\u001b[0;31m---------------------------------------------------------------------------\u001b[0m",
      "\u001b[0;31mTypeError\u001b[0m                                 Traceback (most recent call last)",
      "Cell \u001b[0;32mIn[16], line 2\u001b[0m\n\u001b[1;32m      1\u001b[0m \u001b[38;5;241m1\u001b[39m,\u001b[38;5;241m1\u001b[39m,\u001b[38;5;241m1\u001b[39m,\u001b[38;5;241m1\u001b[39m,\u001b[38;5;241m1\u001b[39m,\u001b[38;5;241m1\u001b[39m,\u001b[38;5;241m1\u001b[39m,\u001b[38;5;241m1\u001b[39m,\u001b[38;5;241m1\u001b[39m,\u001b[38;5;241m0000000\u001b[39m\n\u001b[0;32m----> 2\u001b[0m \u001b[38;5;241m0\u001b[39m,\u001b[38;5;241m0\u001b[39m,\u001b[38;5;241m0\u001b[39m,\u001b[38;5;241m0\u001b[39m,\u001b[38;5;241m0\u001b[39m,\u001b[38;5;241m0\u001b[39m,\u001b[38;5;241m0\u001b[39m,\u001b[38;5;241m0\u001b[39m,\u001b[38;5;241;43m0\u001b[39;49m\u001b[43m(\u001b[49m\u001b[38;5;124;43m\"\u001b[39;49m\u001b[38;5;124;43m\"\u001b[39;49m\u001b[43m)\u001b[49m(\u001b[38;5;124m\"\u001b[39m\u001b[38;5;124m\"\u001b[39m)\n\u001b[1;32m      3\u001b[0m \u001b[38;5;241m2\u001b[39m\u001b[38;5;241m-\u001b[39m\u001b[38;5;241m64\u001b[39m\n",
      "\u001b[0;31mTypeError\u001b[0m: 'int' object is not callable"
     ]
    }
   ],
   "source": [
    "# 1,1,1,1,1,1,1,1,1,0000000\n",
    "# ,,0,0,0,0,0,0,0,0,0\n",
    "# 2-64"
   ]
  },
  {
   "cell_type": "code",
   "execution_count": null,
   "id": "2b5221d2-2f0d-418d-a669-eeb77cf6ffff",
   "metadata": {},
   "outputs": [
    {
     "data": {
      "text/plain": [
       "1"
      ]
     },
     "execution_count": 30,
     "metadata": {},
     "output_type": "execute_result"
    }
   ],
   "source": [
    "arr.ndim"
   ]
  },
  {
   "cell_type": "code",
   "execution_count": null,
   "id": "9bd7df38-4c41-47f5-a502-6524fd1e8b52",
   "metadata": {},
   "outputs": [
    {
     "data": {
      "text/plain": [
       "array([25, 41, 45, 63, 85, 78, 96, 33])"
      ]
     },
     "execution_count": 33,
     "metadata": {},
     "output_type": "execute_result"
    }
   ],
   "source": [
    "arr = np.array([25,41,45,63,85,78,96,33])\n",
    "arr"
   ]
  },
  {
   "cell_type": "code",
   "execution_count": null,
   "id": "a3aa8b3f-6add-4ce3-9fe2-a9e6fa58e6b0",
   "metadata": {},
   "outputs": [
    {
     "data": {
      "text/plain": [
       "8"
      ]
     },
     "execution_count": 34,
     "metadata": {},
     "output_type": "execute_result"
    }
   ],
   "source": [
    "arr.size\n"
   ]
  },
  {
   "cell_type": "code",
   "execution_count": null,
   "id": "586923be-0d23-4f55-ad77-d3fdc9c463e7",
   "metadata": {},
   "outputs": [
    {
     "data": {
      "text/plain": [
       "58.25"
      ]
     },
     "execution_count": 38,
     "metadata": {},
     "output_type": "execute_result"
    }
   ],
   "source": [
    "# arr.min()\n",
    "# arr.max()\n",
    "# arr.sum()\n",
    "# arr.mean()\n"
   ]
  },
  {
   "cell_type": "code",
   "execution_count": null,
   "id": "09862837-e048-4779-9518-1b03cb03c6ca",
   "metadata": {},
   "outputs": [
    {
     "data": {
      "text/plain": [
       "array([ 1,  2,  3,  4,  5,  6,  7,  8,  9, 10, 11, 12, 13, 14, 15, 16, 17,\n",
       "       18, 19, 20])"
      ]
     },
     "execution_count": 41,
     "metadata": {},
     "output_type": "execute_result"
    }
   ],
   "source": [
    "arr2 =np.arange(1,21)\n",
    "arr2\n",
    "# single dimension array"
   ]
  },
  {
   "cell_type": "code",
   "execution_count": null,
   "id": "1ef7c09a-d4b6-4942-98a4-bcd88b754a38",
   "metadata": {},
   "outputs": [
    {
     "data": {
      "text/plain": [
       "20"
      ]
     },
     "execution_count": 42,
     "metadata": {},
     "output_type": "execute_result"
    }
   ],
   "source": [
    "arr2[-1]"
   ]
  },
  {
   "cell_type": "code",
   "execution_count": null,
   "id": "4c86a1ce-d74e-463d-b081-61a29afd1840",
   "metadata": {},
   "outputs": [],
   "source": [
    "arr2[-1] = 500"
   ]
  },
  {
   "cell_type": "code",
   "execution_count": null,
   "id": "daa1a8b4-1706-4067-b410-cf2bac9992a9",
   "metadata": {},
   "outputs": [
    {
     "data": {
      "text/plain": [
       "array([  1,   2,   3,   4,   5,   6,   7,   8,   9,  10,  11,  12,  13,\n",
       "        14,  15,  16,  17,  18,  19, 500])"
      ]
     },
     "execution_count": 44,
     "metadata": {},
     "output_type": "execute_result"
    }
   ],
   "source": [
    "arr2"
   ]
  },
  {
   "cell_type": "code",
   "execution_count": null,
   "id": "ce713c19-0a87-431c-a46f-2fac63eaaffd",
   "metadata": {},
   "outputs": [
    {
     "data": {
      "text/plain": [
       "array([  6,   7,   8,   9,  10,  11,  12,  13,  14,  15,  16,  17,  18,\n",
       "        19,  20,  21,  22,  23,  24, 505])"
      ]
     },
     "execution_count": 45,
     "metadata": {},
     "output_type": "execute_result"
    }
   ],
   "source": [
    "arr2 + 5"
   ]
  },
  {
   "cell_type": "code",
   "execution_count": null,
   "id": "5765e70c-2b30-4bbe-bd41-b6b889c69ae4",
   "metadata": {},
   "outputs": [
    {
     "data": {
      "text/plain": [
       "array([   2,    4,    6,    8,   10,   12,   14,   16,   18,   20,   22,\n",
       "         24,   26,   28,   30,   32,   34,   36,   38, 1000])"
      ]
     },
     "execution_count": 46,
     "metadata": {},
     "output_type": "execute_result"
    }
   ],
   "source": [
    "arr2 * 2"
   ]
  },
  {
   "cell_type": "code",
   "execution_count": null,
   "id": "2f7764ba-0d57-4238-973d-21c86f417f6b",
   "metadata": {},
   "outputs": [
    {
     "data": {
      "text/plain": [
       "array([ 1,  2,  3,  4,  5,  6,  7,  8,  9, 10, 11, 12, 13, 14, 15, 16, 17,\n",
       "       18, 19, 20, 21, 22, 23, 24, 25, 26, 27, 28, 29, 30, 31, 32, 33, 34,\n",
       "       35, 36, 37, 38, 39, 40, 41, 42, 43, 44, 45, 46, 47, 48, 49, 50, 51,\n",
       "       52, 53, 54, 55, 56, 57, 58, 59, 60])"
      ]
     },
     "execution_count": 48,
     "metadata": {},
     "output_type": "execute_result"
    }
   ],
   "source": [
    "arr=np.arange(1,61)\n",
    "arr"
   ]
  },
  {
   "cell_type": "code",
   "execution_count": null,
   "id": "d2d85b83-a7e4-42e5-be94-f973d686831f",
   "metadata": {},
   "outputs": [
    {
     "data": {
      "text/plain": [
       "[[1, 2, 3], [4, 5, 6], [7, 8, 9]]"
      ]
     },
     "execution_count": 49,
     "metadata": {},
     "output_type": "execute_result"
    }
   ],
   "source": [
    "lst = [[1,2,3],[4,5,6],[7,8,9]]\n",
    "lst"
   ]
  },
  {
   "cell_type": "code",
   "execution_count": null,
   "id": "0ebe9a42-908f-4f73-a208-5663c220de97",
   "metadata": {},
   "outputs": [
    {
     "data": {
      "text/plain": [
       "array([[1, 2, 3],\n",
       "       [4, 5, 6],\n",
       "       [7, 8, 9]])"
      ]
     },
     "execution_count": 51,
     "metadata": {},
     "output_type": "execute_result"
    }
   ],
   "source": [
    "arr = np.array(lst)\n",
    "arr"
   ]
  },
  {
   "cell_type": "code",
   "execution_count": null,
   "id": "de397093-1f5b-4228-964d-a684a6dbb3f8",
   "metadata": {},
   "outputs": [
    {
     "data": {
      "text/plain": [
       "2"
      ]
     },
     "execution_count": 52,
     "metadata": {},
     "output_type": "execute_result"
    }
   ],
   "source": [
    "arr.ndim"
   ]
  },
  {
   "cell_type": "code",
   "execution_count": null,
   "id": "61e70ac3-46c4-4533-bb47-a01b50fdd108",
   "metadata": {},
   "outputs": [],
   "source": []
  },
  {
   "cell_type": "code",
   "execution_count": null,
   "id": "a8d62dbd-7d57-4ec9-81bf-ff657ea00b33",
   "metadata": {},
   "outputs": [
    {
     "data": {
      "text/plain": [
       "5"
      ]
     },
     "execution_count": 65,
     "metadata": {},
     "output_type": "execute_result"
    }
   ],
   "source": [
    "lst[1][1]"
   ]
  },
  {
   "cell_type": "code",
   "execution_count": null,
   "id": "5e5d4f20-375c-433c-b995-f293cbd73be7",
   "metadata": {},
   "outputs": [
    {
     "data": {
      "text/plain": [
       "5"
      ]
     },
     "execution_count": 66,
     "metadata": {},
     "output_type": "execute_result"
    }
   ],
   "source": [
    "arr[1][1]"
   ]
  },
  {
   "cell_type": "code",
   "execution_count": null,
   "id": "7c038bca-6f52-4bda-95a4-99d6a7bf634e",
   "metadata": {},
   "outputs": [
    {
     "data": {
      "text/plain": [
       "(3, 3)"
      ]
     },
     "execution_count": 67,
     "metadata": {},
     "output_type": "execute_result"
    }
   ],
   "source": [
    "arr.shape"
   ]
  },
  {
   "cell_type": "code",
   "execution_count": null,
   "id": "9a8b2655-0437-49f0-bcfb-2356f0cf3e69",
   "metadata": {},
   "outputs": [
    {
     "data": {
      "text/plain": [
       "array([5])"
      ]
     },
     "execution_count": 69,
     "metadata": {},
     "output_type": "execute_result"
    }
   ],
   "source": [
    "# arr[row,column]\n",
    "# arr[row_start:row_stop:row_step,row_start:row_stop:row_step]\n",
    "# arr[1:3]\n",
    "arr[1:2,1]"
   ]
  },
  {
   "cell_type": "code",
   "execution_count": null,
   "id": "6ea3ea8d-f44f-4c5c-aa16-2f2b2b259b69",
   "metadata": {},
   "outputs": [
    {
     "data": {
      "text/plain": [
       "array([3, 6, 9])"
      ]
     },
     "execution_count": 77,
     "metadata": {},
     "output_type": "execute_result"
    }
   ],
   "source": [
    "arr[0:3,2]"
   ]
  },
  {
   "cell_type": "code",
   "execution_count": null,
   "id": "bef23aec-6158-4e52-a55e-40b0079e33ca",
   "metadata": {},
   "outputs": [
    {
     "data": {
      "text/plain": [
       "array([3, 6, 9])"
      ]
     },
     "execution_count": 79,
     "metadata": {},
     "output_type": "execute_result"
    }
   ],
   "source": [
    "arr[0:3,-1]"
   ]
  },
  {
   "cell_type": "code",
   "execution_count": null,
   "id": "06a62d2e-3238-4ec0-b2f3-f59120b758a0",
   "metadata": {},
   "outputs": [
    {
     "data": {
      "text/plain": [
       "array([[1, 2, 3],\n",
       "       [4, 5, 6],\n",
       "       [7, 8, 9]])"
      ]
     },
     "execution_count": 87,
     "metadata": {},
     "output_type": "execute_result"
    }
   ],
   "source": [
    "arr"
   ]
  },
  {
   "cell_type": "code",
   "execution_count": null,
   "id": "d81b74d5-cb7e-4217-9585-13ac1770161b",
   "metadata": {},
   "outputs": [
    {
     "data": {
      "text/plain": [
       "array([[3],\n",
       "       [6],\n",
       "       [9]])"
      ]
     },
     "execution_count": 90,
     "metadata": {},
     "output_type": "execute_result"
    }
   ],
   "source": [
    "arr[:,2:]"
   ]
  },
  {
   "cell_type": "code",
   "execution_count": null,
   "id": "fd89bc83-5634-4495-98d8-d849c6db1195",
   "metadata": {},
   "outputs": [],
   "source": [
    "5  6 \n",
    "8  9"
   ]
  },
  {
   "cell_type": "code",
   "execution_count": null,
   "id": "85acecb8-37d1-410b-be38-bd84a6cef900",
   "metadata": {},
   "outputs": [
    {
     "data": {
      "text/plain": [
       "array([[5, 6],\n",
       "       [8, 9]])"
      ]
     },
     "execution_count": 93,
     "metadata": {},
     "output_type": "execute_result"
    }
   ],
   "source": [
    "arr[1:,1:3]"
   ]
  },
  {
   "cell_type": "code",
   "execution_count": null,
   "id": "47365de2-f114-489f-ba80-db4dbee1727e",
   "metadata": {},
   "outputs": [
    {
     "data": {
      "text/plain": [
       "array([[1, 2, 3],\n",
       "       [4, 5, 6],\n",
       "       [7, 8, 9]])"
      ]
     },
     "execution_count": 94,
     "metadata": {},
     "output_type": "execute_result"
    }
   ],
   "source": [
    "arr"
   ]
  },
  {
   "cell_type": "code",
   "execution_count": null,
   "id": "4ec7cf7d-1629-4719-8106-a2b678faa840",
   "metadata": {},
   "outputs": [
    {
     "name": "stdout",
     "output_type": "stream",
     "text": [
      "1\n",
      "2\n",
      "3\n",
      "4\n",
      "5\n",
      "6\n",
      "7\n",
      "8\n",
      "9\n"
     ]
    }
   ],
   "source": [
    "for row in arr:\n",
    "    \n",
    "    for i in row:\n",
    "        print(i)"
   ]
  },
  {
   "cell_type": "code",
   "execution_count": null,
   "id": "a4c06393-d057-416d-8c7f-a382e75b1754",
   "metadata": {},
   "outputs": [],
   "source": [
    "# 1. 5 is present or not\n",
    "# 2, if present then tell position of 5 \n",
    "# 3. write a program to find the sum of 2d array but row wise and output will in a list form\n",
    "# 4. count no of even row wise \n",
    "# 5. print all element greaater then 25\n"
   ]
  },
  {
   "cell_type": "code",
   "execution_count": 17,
   "id": "083d87f8-6c0a-430e-ba0d-1b7b57d06a52",
   "metadata": {},
   "outputs": [
    {
     "data": {
      "text/plain": [
       "array([[ 1,  2,  3,  4,  5],\n",
       "       [ 6,  7,  8,  9, 10],\n",
       "       [11, 12, 13, 14, 15],\n",
       "       [16, 17, 18, 19, 20],\n",
       "       [21, 22, 23, 24, 25],\n",
       "       [26, 27, 28, 29, 30],\n",
       "       [31, 32, 33, 34, 35],\n",
       "       [36, 37, 38, 39, 40],\n",
       "       [41, 42, 43, 44, 45],\n",
       "       [46, 47, 48, 49, 50],\n",
       "       [51, 52, 53, 54, 55],\n",
       "       [56, 57, 58, 59, 60]])"
      ]
     },
     "execution_count": 17,
     "metadata": {},
     "output_type": "execute_result"
    }
   ],
   "source": [
    "np.arange(1,61).reshape((12,5))"
   ]
  },
  {
   "cell_type": "code",
   "execution_count": 18,
   "id": "0a17471e-9fc4-4cb6-92e8-334734c8b6ed",
   "metadata": {},
   "outputs": [
    {
     "name": "stdout",
     "output_type": "stream",
     "text": [
      "h\n",
      "e\n",
      "l\n",
      "l\n",
      "o\n",
      "w\n",
      "o\n",
      "r\n",
      "l\n",
      "d\n",
      "u\n",
      "p\n",
      "f\n",
      "l\n",
      "a\n",
      "i\n",
      "r\n",
      "s\n",
      "8\n",
      "5\n"
     ]
    }
   ],
   "source": [
    "for row in arr:\n",
    "    \n",
    "    for i in row:\n",
    "        print(i)"
   ]
  },
  {
   "cell_type": "code",
   "execution_count": 2,
   "id": "5f0c9be0",
   "metadata": {},
   "outputs": [],
   "source": [
    "import numpy as np "
   ]
  },
  {
   "cell_type": "code",
   "execution_count": 7,
   "id": "886461b3-b074-4205-9571-6ec21b27df4d",
   "metadata": {},
   "outputs": [
    {
     "data": {
      "text/plain": [
       "array([  1,   2,   3,   4,   5,   6,   7,   8,   9,  10,  11,  12,  13,\n",
       "        14,  15,  16,  17,  18,  19,  20,  21,  22,  23,  24,  25,  26,\n",
       "        27,  28,  29,  30,  31,  32,  33,  34,  35,  36,  37,  38,  39,\n",
       "        40,  41,  42,  43,  44,  45,  46,  47,  48,  49,  50,  51,  52,\n",
       "        53,  54,  55,  56,  57,  58,  59,  60,  61,  62,  63,  64,  65,\n",
       "        66,  67,  68,  69,  70,  71,  72,  73,  74,  75,  76,  77,  78,\n",
       "        79,  80,  81,  82,  83,  84,  85,  86,  87,  88,  89,  90,  91,\n",
       "        92,  93,  94,  95,  96,  97,  98,  99, 100, 101, 102, 103, 104,\n",
       "       105, 106, 107, 108, 109, 110, 111, 112, 113, 114, 115, 116, 117,\n",
       "       118, 119, 120, 121, 122, 123, 124, 125, 126, 127, 128, 129, 130,\n",
       "       131, 132, 133, 134, 135, 136, 137, 138, 139, 140, 141, 142, 143,\n",
       "       144, 145, 146, 147, 148, 149, 150, 151, 152, 153, 154, 155, 156,\n",
       "       157, 158, 159, 160, 161, 162, 163, 164, 165, 166, 167, 168, 169,\n",
       "       170, 171, 172, 173, 174, 175, 176, 177, 178, 179, 180, 181, 182,\n",
       "       183, 184, 185, 186, 187, 188, 189, 190, 191, 192, 193, 194, 195,\n",
       "       196, 197, 198, 199, 200, 201, 202, 203, 204, 205, 206, 207, 208,\n",
       "       209, 210, 211, 212, 213, 214, 215, 216, 217, 218, 219, 220, 221,\n",
       "       222, 223, 224, 225, 226, 227, 228, 229, 230, 231, 232, 233, 234,\n",
       "       235, 236, 237, 238, 239, 240, 241, 242, 243, 244, 245, 246, 247,\n",
       "       248, 249, 250, 251, 252, 253, 254, 255, 256, 257, 258, 259, 260,\n",
       "       261, 262, 263, 264, 265, 266, 267, 268, 269, 270, 271, 272, 273,\n",
       "       274, 275, 276, 277, 278, 279, 280, 281, 282, 283, 284, 285, 286,\n",
       "       287, 288, 289, 290, 291, 292, 293, 294, 295, 296, 297, 298, 299,\n",
       "       300])"
      ]
     },
     "execution_count": 7,
     "metadata": {},
     "output_type": "execute_result"
    }
   ],
   "source": [
    "arr = np.arange(1,301)\n",
    "arr"
   ]
  },
  {
   "cell_type": "code",
   "execution_count": 6,
   "id": "39d5e526",
   "metadata": {},
   "outputs": [
    {
     "data": {
      "text/plain": [
       "300"
      ]
     },
     "execution_count": 6,
     "metadata": {},
     "output_type": "execute_result"
    }
   ],
   "source": [
    "4*15*5"
   ]
  },
  {
   "cell_type": "code",
   "execution_count": 10,
   "id": "e414d91c-4a76-4627-ba8c-af6b6691b43c",
   "metadata": {},
   "outputs": [],
   "source": [
    "arr2 = arr.reshape(4,15,5)"
   ]
  },
  {
   "cell_type": "code",
   "execution_count": 11,
   "id": "d353069f-9d21-4501-89f2-63aa6fe53367",
   "metadata": {},
   "outputs": [
    {
     "data": {
      "text/plain": [
       "(4, 15, 5)"
      ]
     },
     "execution_count": 11,
     "metadata": {},
     "output_type": "execute_result"
    }
   ],
   "source": [
    "arr2.shape\n",
    "\n",
    "# (4, 15, 5)    -->   (Table , row  , column)\n",
    "\n",
    "\n"
   ]
  },
  {
   "cell_type": "code",
   "execution_count": 12,
   "id": "15ac813d-3d06-4e4a-9beb-dea6449cd58d",
   "metadata": {},
   "outputs": [
    {
     "data": {
      "text/plain": [
       "array([[[  1,   2,   3,   4,   5],\n",
       "        [  6,   7,   8,   9,  10],\n",
       "        [ 11,  12,  13,  14,  15],\n",
       "        [ 16,  17,  18,  19,  20],\n",
       "        [ 21,  22,  23,  24,  25],\n",
       "        [ 26,  27,  28,  29,  30],\n",
       "        [ 31,  32,  33,  34,  35],\n",
       "        [ 36,  37,  38,  39,  40],\n",
       "        [ 41,  42,  43,  44,  45],\n",
       "        [ 46,  47,  48,  49,  50],\n",
       "        [ 51,  52,  53,  54,  55],\n",
       "        [ 56,  57,  58,  59,  60],\n",
       "        [ 61,  62,  63,  64,  65],\n",
       "        [ 66,  67,  68,  69,  70],\n",
       "        [ 71,  72,  73,  74,  75]],\n",
       "\n",
       "       [[ 76,  77,  78,  79,  80],\n",
       "        [ 81,  82,  83,  84,  85],\n",
       "        [ 86,  87,  88,  89,  90],\n",
       "        [ 91,  92,  93,  94,  95],\n",
       "        [ 96,  97,  98,  99, 100],\n",
       "        [101, 102, 103, 104, 105],\n",
       "        [106, 107, 108, 109, 110],\n",
       "        [111, 112, 113, 114, 115],\n",
       "        [116, 117, 118, 119, 120],\n",
       "        [121, 122, 123, 124, 125],\n",
       "        [126, 127, 128, 129, 130],\n",
       "        [131, 132, 133, 134, 135],\n",
       "        [136, 137, 138, 139, 140],\n",
       "        [141, 142, 143, 144, 145],\n",
       "        [146, 147, 148, 149, 150]],\n",
       "\n",
       "       [[151, 152, 153, 154, 155],\n",
       "        [156, 157, 158, 159, 160],\n",
       "        [161, 162, 163, 164, 165],\n",
       "        [166, 167, 168, 169, 170],\n",
       "        [171, 172, 173, 174, 175],\n",
       "        [176, 177, 178, 179, 180],\n",
       "        [181, 182, 183, 184, 185],\n",
       "        [186, 187, 188, 189, 190],\n",
       "        [191, 192, 193, 194, 195],\n",
       "        [196, 197, 198, 199, 200],\n",
       "        [201, 202, 203, 204, 205],\n",
       "        [206, 207, 208, 209, 210],\n",
       "        [211, 212, 213, 214, 215],\n",
       "        [216, 217, 218, 219, 220],\n",
       "        [221, 222, 223, 224, 225]],\n",
       "\n",
       "       [[226, 227, 228, 229, 230],\n",
       "        [231, 232, 233, 234, 235],\n",
       "        [236, 237, 238, 239, 240],\n",
       "        [241, 242, 243, 244, 245],\n",
       "        [246, 247, 248, 249, 250],\n",
       "        [251, 252, 253, 254, 255],\n",
       "        [256, 257, 258, 259, 260],\n",
       "        [261, 262, 263, 264, 265],\n",
       "        [266, 267, 268, 269, 270],\n",
       "        [271, 272, 273, 274, 275],\n",
       "        [276, 277, 278, 279, 280],\n",
       "        [281, 282, 283, 284, 285],\n",
       "        [286, 287, 288, 289, 290],\n",
       "        [291, 292, 293, 294, 295],\n",
       "        [296, 297, 298, 299, 300]]])"
      ]
     },
     "execution_count": 12,
     "metadata": {},
     "output_type": "execute_result"
    }
   ],
   "source": [
    "arr2 "
   ]
  },
  {
   "cell_type": "code",
   "execution_count": 13,
   "id": "2cc0fc1b-4f22-49e7-ab92-f921cc89432d",
   "metadata": {},
   "outputs": [
    {
     "data": {
      "text/plain": [
       "3"
      ]
     },
     "execution_count": 13,
     "metadata": {},
     "output_type": "execute_result"
    }
   ],
   "source": [
    "arr2.ndim"
   ]
  },
  {
   "cell_type": "code",
   "execution_count": 14,
   "id": "6c03f960-5e36-4be6-9707-bd6b63bc0ebc",
   "metadata": {},
   "outputs": [
    {
     "data": {
      "text/plain": [
       "array([[[  1,   2,   3,   4,   5],\n",
       "        [  6,   7,   8,   9,  10],\n",
       "        [ 11,  12,  13,  14,  15],\n",
       "        [ 16,  17,  18,  19,  20],\n",
       "        [ 21,  22,  23,  24,  25],\n",
       "        [ 26,  27,  28,  29,  30],\n",
       "        [ 31,  32,  33,  34,  35],\n",
       "        [ 36,  37,  38,  39,  40],\n",
       "        [ 41,  42,  43,  44,  45],\n",
       "        [ 46,  47,  48,  49,  50],\n",
       "        [ 51,  52,  53,  54,  55],\n",
       "        [ 56,  57,  58,  59,  60],\n",
       "        [ 61,  62,  63,  64,  65],\n",
       "        [ 66,  67,  68,  69,  70],\n",
       "        [ 71,  72,  73,  74,  75]],\n",
       "\n",
       "       [[ 76,  77,  78,  79,  80],\n",
       "        [ 81,  82,  83,  84,  85],\n",
       "        [ 86,  87,  88,  89,  90],\n",
       "        [ 91,  92,  93,  94,  95],\n",
       "        [ 96,  97,  98,  99, 100],\n",
       "        [101, 102, 103, 104, 105],\n",
       "        [106, 107, 108, 109, 110],\n",
       "        [111, 112, 113, 114, 115],\n",
       "        [116, 117, 118, 119, 120],\n",
       "        [121, 122, 123, 124, 125],\n",
       "        [126, 127, 128, 129, 130],\n",
       "        [131, 132, 133, 134, 135],\n",
       "        [136, 137, 138, 139, 140],\n",
       "        [141, 142, 143, 144, 145],\n",
       "        [146, 147, 148, 149, 150]],\n",
       "\n",
       "       [[151, 152, 153, 154, 155],\n",
       "        [156, 157, 158, 159, 160],\n",
       "        [161, 162, 163, 164, 165],\n",
       "        [166, 167, 168, 169, 170],\n",
       "        [171, 172, 173, 174, 175],\n",
       "        [176, 177, 178, 179, 180],\n",
       "        [181, 182, 183, 184, 185],\n",
       "        [186, 187, 188, 189, 190],\n",
       "        [191, 192, 193, 194, 195],\n",
       "        [196, 197, 198, 199, 200],\n",
       "        [201, 202, 203, 204, 205],\n",
       "        [206, 207, 208, 209, 210],\n",
       "        [211, 212, 213, 214, 215],\n",
       "        [216, 217, 218, 219, 220],\n",
       "        [221, 222, 223, 224, 225]],\n",
       "\n",
       "       [[226, 227, 228, 229, 230],\n",
       "        [231, 232, 233, 234, 235],\n",
       "        [236, 237, 238, 239, 240],\n",
       "        [241, 242, 243, 244, 245],\n",
       "        [246, 247, 248, 249, 250],\n",
       "        [251, 252, 253, 254, 255],\n",
       "        [256, 257, 258, 259, 260],\n",
       "        [261, 262, 263, 264, 265],\n",
       "        [266, 267, 268, 269, 270],\n",
       "        [271, 272, 273, 274, 275],\n",
       "        [276, 277, 278, 279, 280],\n",
       "        [281, 282, 283, 284, 285],\n",
       "        [286, 287, 288, 289, 290],\n",
       "        [291, 292, 293, 294, 295],\n",
       "        [296, 297, 298, 299, 300]]])"
      ]
     },
     "execution_count": 14,
     "metadata": {},
     "output_type": "execute_result"
    }
   ],
   "source": [
    "# arr2[Table , row  , column]    [start:stop:step,start:stop:step,start:stop:step,]"
   ]
  },
  {
   "cell_type": "code",
   "execution_count": 25,
   "id": "fec97631-119b-423f-b3d5-42231dc16fa6",
   "metadata": {},
   "outputs": [
    {
     "data": {
      "text/plain": [
       "array([[  5,  10,  15,  20,  25,  30,  35,  40,  45,  50,  55,  60,  65,\n",
       "         70,  75],\n",
       "       [ 80,  85,  90,  95, 100, 105, 110, 115, 120, 125, 130, 135, 140,\n",
       "        145, 150],\n",
       "       [155, 160, 165, 170, 175, 180, 185, 190, 195, 200, 205, 210, 215,\n",
       "        220, 225],\n",
       "       [230, 235, 240, 245, 250, 255, 260, 265, 270, 275, 280, 285, 290,\n",
       "        295, 300]])"
      ]
     },
     "execution_count": 25,
     "metadata": {},
     "output_type": "execute_result"
    }
   ],
   "source": [
    "arr2[:,:,4]"
   ]
  },
  {
   "cell_type": "code",
   "execution_count": 48,
   "id": "b72c0c5c-9180-4421-a349-af8829242066",
   "metadata": {},
   "outputs": [],
   "source": [
    "arr2[:,-1,-1]   =  [ 500, 500, 500, 500]"
   ]
  },
  {
   "cell_type": "code",
   "execution_count": 46,
   "id": "483fc745-48d9-464e-bbb0-610e26ad0256",
   "metadata": {},
   "outputs": [],
   "source": [
    "arr2[0][0][0]  = 1000"
   ]
  },
  {
   "cell_type": "code",
   "execution_count": 49,
   "id": "9e0c3bd1-10d0-425d-942c-6d7073426ef0",
   "metadata": {},
   "outputs": [
    {
     "data": {
      "text/plain": [
       "array([[[1000,    2,    3,    4,    5],\n",
       "        [   6,    7,    8,    9,   10],\n",
       "        [  11,   12,   13,   14,   15],\n",
       "        [  16,   17,   18,   19,   20],\n",
       "        [  21,   22,   23,   24,   25],\n",
       "        [  26,   27,   28,   29,   30],\n",
       "        [  31,   32,   33,   34,   35],\n",
       "        [  36,   37,   38,   39,   40],\n",
       "        [  41,   42,   43,   44,   45],\n",
       "        [  46,   47,   48,   49,   50],\n",
       "        [  51,   52,   53,   54,   55],\n",
       "        [  56,   57,   58,   59,   60],\n",
       "        [  61,   62,   63,   64,   65],\n",
       "        [  66,   67,   68,   69,   70],\n",
       "        [  71,   72,   73,   74,  500]],\n",
       "\n",
       "       [[  76,   77,   78,   79,   80],\n",
       "        [  81,   82,   83,   84,   85],\n",
       "        [  86,   87,   88,   89,   90],\n",
       "        [  91,   92,   93,   94,   95],\n",
       "        [  96,   97,   98,   99,  100],\n",
       "        [ 101,  102,  103,  104,  105],\n",
       "        [ 106,  107,  108,  109,  110],\n",
       "        [ 111,  112,  113,  114,  115],\n",
       "        [ 116,  117,  118,  119,  120],\n",
       "        [ 121,  122,  123,  124,  125],\n",
       "        [ 126,  127,  128,  129,  130],\n",
       "        [ 131,  132,  133,  134,  135],\n",
       "        [ 136,  137,  138,  139,  140],\n",
       "        [ 141,  142,  143,  144,  145],\n",
       "        [ 146,  147,  148,  149,  500]],\n",
       "\n",
       "       [[ 151,  152,  153,  154,  155],\n",
       "        [ 156,  157,  158,  159,  160],\n",
       "        [ 161,  162,  163,  164,  165],\n",
       "        [ 166,  167,  168,  169,  170],\n",
       "        [ 171,  172,  173,  174,  175],\n",
       "        [ 176,  177,  178,  179,  180],\n",
       "        [ 181,  182,  183,  184,  185],\n",
       "        [ 186,  187,  188,  189,  190],\n",
       "        [ 191,  192,  193,  194,  195],\n",
       "        [ 196,  197,  198,  199,  200],\n",
       "        [ 201,  202,  203,  204,  205],\n",
       "        [ 206,  207,  208,  209,  210],\n",
       "        [ 211,  212,  213,  214,  215],\n",
       "        [ 216,  217,  218,  219,  220],\n",
       "        [ 221,  222,  223,  224,  500]],\n",
       "\n",
       "       [[ 226,  227,  228,  229,  230],\n",
       "        [ 231,  232,  233,  234,  235],\n",
       "        [ 236,  237,  238,  239,  240],\n",
       "        [ 241,  242,  243,  244,  245],\n",
       "        [ 246,  247,  248,  249,  250],\n",
       "        [ 251,  252,  253,  254,  255],\n",
       "        [ 256,  257,  258,  259,  260],\n",
       "        [ 261,  262,  263,  264,  265],\n",
       "        [ 266,  267,  268,  269,  270],\n",
       "        [ 271,  272,  273,  274,  275],\n",
       "        [ 276,  277,  278,  279,  280],\n",
       "        [ 281,  282,  283,  284,  285],\n",
       "        [ 286,  287,  288,  289,  290],\n",
       "        [ 291,  292,  293,  294,  295],\n",
       "        [ 296,  297,  298,  299,  500]]])"
      ]
     },
     "execution_count": 49,
     "metadata": {},
     "output_type": "execute_result"
    }
   ],
   "source": [
    "arr2"
   ]
  },
  {
   "cell_type": "code",
   "execution_count": 51,
   "id": "da8ced9d-f9c5-4425-a3ec-493d34299bc4",
   "metadata": {},
   "outputs": [
    {
     "data": {
      "text/plain": [
       "array([1000,    2,    3,    4,    5,    6,    7,    8,    9,   10,   11,\n",
       "         12,   13,   14,   15,   16,   17,   18,   19,   20,   21,   22,\n",
       "         23,   24,   25,   26,   27,   28,   29,   30,   31,   32,   33,\n",
       "         34,   35,   36,   37,   38,   39,   40,   41,   42,   43,   44,\n",
       "         45,   46,   47,   48,   49,   50,   51,   52,   53,   54,   55,\n",
       "         56,   57,   58,   59,   60,   61,   62,   63,   64,   65,   66,\n",
       "         67,   68,   69,   70,   71,   72,   73,   74,  500,   76,   77,\n",
       "         78,   79,   80,   81,   82,   83,   84,   85,   86,   87,   88,\n",
       "         89,   90,   91,   92,   93,   94,   95,   96,   97,   98,   99,\n",
       "        100,  101,  102,  103,  104,  105,  106,  107,  108,  109,  110,\n",
       "        111,  112,  113,  114,  115,  116,  117,  118,  119,  120,  121,\n",
       "        122,  123,  124,  125,  126,  127,  128,  129,  130,  131,  132,\n",
       "        133,  134,  135,  136,  137,  138,  139,  140,  141,  142,  143,\n",
       "        144,  145,  146,  147,  148,  149,  500,  151,  152,  153,  154,\n",
       "        155,  156,  157,  158,  159,  160,  161,  162,  163,  164,  165,\n",
       "        166,  167,  168,  169,  170,  171,  172,  173,  174,  175,  176,\n",
       "        177,  178,  179,  180,  181,  182,  183,  184,  185,  186,  187,\n",
       "        188,  189,  190,  191,  192,  193,  194,  195,  196,  197,  198,\n",
       "        199,  200,  201,  202,  203,  204,  205,  206,  207,  208,  209,\n",
       "        210,  211,  212,  213,  214,  215,  216,  217,  218,  219,  220,\n",
       "        221,  222,  223,  224,  500,  226,  227,  228,  229,  230,  231,\n",
       "        232,  233,  234,  235,  236,  237,  238,  239,  240,  241,  242,\n",
       "        243,  244,  245,  246,  247,  248,  249,  250,  251,  252,  253,\n",
       "        254,  255,  256,  257,  258,  259,  260,  261,  262,  263,  264,\n",
       "        265,  266,  267,  268,  269,  270,  271,  272,  273,  274,  275,\n",
       "        276,  277,  278,  279,  280,  281,  282,  283,  284,  285,  286,\n",
       "        287,  288,  289,  290,  291,  292,  293,  294,  295,  296,  297,\n",
       "        298,  299,  500])"
      ]
     },
     "execution_count": 51,
     "metadata": {},
     "output_type": "execute_result"
    }
   ],
   "source": [
    "arr2.flatten()  # 1D"
   ]
  },
  {
   "cell_type": "code",
   "execution_count": 53,
   "id": "d005048f-babe-4196-84e1-00c2f20de50a",
   "metadata": {},
   "outputs": [
    {
     "data": {
      "text/plain": [
       "array([1000,    2,    3,    4,    5,    6,    7,    8,    9,   10,   11,\n",
       "         12,   13,   14,   15,   16,   17,   18,   19,   20,   21,   22,\n",
       "         23,   24,   25,   26,   27,   28,   29,   30,   31,   32,   33,\n",
       "         34,   35,   36,   37,   38,   39,   40,   41,   42,   43,   44,\n",
       "         45,   46,   47,   48,   49,   50,   51,   52,   53,   54,   55,\n",
       "         56,   57,   58,   59,   60,   61,   62,   63,   64,   65,   66,\n",
       "         67,   68,   69,   70,   71,   72,   73,   74,  500,   76,   77,\n",
       "         78,   79,   80,   81,   82,   83,   84,   85,   86,   87,   88,\n",
       "         89,   90,   91,   92,   93,   94,   95,   96,   97,   98,   99,\n",
       "        100,  101,  102,  103,  104,  105,  106,  107,  108,  109,  110,\n",
       "        111,  112,  113,  114,  115,  116,  117,  118,  119,  120,  121,\n",
       "        122,  123,  124,  125,  126,  127,  128,  129,  130,  131,  132,\n",
       "        133,  134,  135,  136,  137,  138,  139,  140,  141,  142,  143,\n",
       "        144,  145,  146,  147,  148,  149,  500,  151,  152,  153,  154,\n",
       "        155,  156,  157,  158,  159,  160,  161,  162,  163,  164,  165,\n",
       "        166,  167,  168,  169,  170,  171,  172,  173,  174,  175,  176,\n",
       "        177,  178,  179,  180,  181,  182,  183,  184,  185,  186,  187,\n",
       "        188,  189,  190,  191,  192,  193,  194,  195,  196,  197,  198,\n",
       "        199,  200,  201,  202,  203,  204,  205,  206,  207,  208,  209,\n",
       "        210,  211,  212,  213,  214,  215,  216,  217,  218,  219,  220,\n",
       "        221,  222,  223,  224,  500,  226,  227,  228,  229,  230,  231,\n",
       "        232,  233,  234,  235,  236,  237,  238,  239,  240,  241,  242,\n",
       "        243,  244,  245,  246,  247,  248,  249,  250,  251,  252,  253,\n",
       "        254,  255,  256,  257,  258,  259,  260,  261,  262,  263,  264,\n",
       "        265,  266,  267,  268,  269,  270,  271,  272,  273,  274,  275,\n",
       "        276,  277,  278,  279,  280,  281,  282,  283,  284,  285,  286,\n",
       "        287,  288,  289,  290,  291,  292,  293,  294,  295,  296,  297,\n",
       "        298,  299,  500])"
      ]
     },
     "execution_count": 53,
     "metadata": {},
     "output_type": "execute_result"
    }
   ],
   "source": [
    "arr2.ravel()"
   ]
  },
  {
   "cell_type": "code",
   "execution_count": 54,
   "id": "8bc21b8d-5f67-4e41-abda-a0432c4efadf",
   "metadata": {},
   "outputs": [
    {
     "data": {
      "text/plain": [
       "array([[ 1,  2,  3,  4],\n",
       "       [ 5,  6,  7,  8],\n",
       "       [ 9, 10, 11, 12],\n",
       "       [13, 14, 15, 16],\n",
       "       [17, 18, 19, 20],\n",
       "       [21, 22, 23, 24],\n",
       "       [25, 26, 27, 28],\n",
       "       [29, 30, 31, 32],\n",
       "       [33, 34, 35, 36],\n",
       "       [37, 38, 39, 40],\n",
       "       [41, 42, 43, 44],\n",
       "       [45, 46, 47, 48],\n",
       "       [49, 50, 51, 52],\n",
       "       [53, 54, 55, 56],\n",
       "       [57, 58, 59, 60]])"
      ]
     },
     "execution_count": 54,
     "metadata": {},
     "output_type": "execute_result"
    }
   ],
   "source": [
    "arr = np.arange(1,61).reshape(15,4)\n",
    "arr"
   ]
  },
  {
   "cell_type": "code",
   "execution_count": 55,
   "id": "cd6f1348",
   "metadata": {},
   "outputs": [
    {
     "data": {
      "text/plain": [
       "(15, 4)"
      ]
     },
     "execution_count": 55,
     "metadata": {},
     "output_type": "execute_result"
    }
   ],
   "source": [
    "arr.shape"
   ]
  },
  {
   "cell_type": "code",
   "execution_count": 58,
   "id": "ad829a20-ab4c-4829-9f8a-eaefcd26d9c9",
   "metadata": {},
   "outputs": [
    {
     "data": {
      "text/plain": [
       "(4, 15)"
      ]
     },
     "execution_count": 58,
     "metadata": {},
     "output_type": "execute_result"
    }
   ],
   "source": [
    "arr.transpose().shape"
   ]
  },
  {
   "cell_type": "code",
   "execution_count": 60,
   "id": "a6d987ad-91b8-4c72-8f97-73bcd692e268",
   "metadata": {},
   "outputs": [
    {
     "data": {
      "text/plain": [
       "(4, 15)"
      ]
     },
     "execution_count": 60,
     "metadata": {},
     "output_type": "execute_result"
    }
   ],
   "source": [
    "arr.T.shape"
   ]
  },
  {
   "cell_type": "code",
   "execution_count": 63,
   "id": "9cbd6bc3-fdab-414c-83c2-e6314cb5f6cd",
   "metadata": {},
   "outputs": [
    {
     "data": {
      "text/plain": [
       "array([[0., 0., 0., 0.],\n",
       "       [0., 0., 0., 0.],\n",
       "       [0., 0., 0., 0.],\n",
       "       [0., 0., 0., 0.],\n",
       "       [0., 0., 0., 0.],\n",
       "       [0., 0., 0., 0.],\n",
       "       [0., 0., 0., 0.],\n",
       "       [0., 0., 0., 0.],\n",
       "       [0., 0., 0., 0.],\n",
       "       [0., 0., 0., 0.],\n",
       "       [0., 0., 0., 0.],\n",
       "       [0., 0., 0., 0.],\n",
       "       [0., 0., 0., 0.],\n",
       "       [0., 0., 0., 0.],\n",
       "       [0., 0., 0., 0.]])"
      ]
     },
     "execution_count": 63,
     "metadata": {},
     "output_type": "execute_result"
    }
   ],
   "source": [
    "# 15,4   ===>  0  \n",
    "np.zeros((15,4))"
   ]
  },
  {
   "cell_type": "code",
   "execution_count": 64,
   "id": "2975f3b2-2076-4851-800e-4211aa5a0a4e",
   "metadata": {},
   "outputs": [
    {
     "data": {
      "text/plain": [
       "array([[1., 1., 1., 1.],\n",
       "       [1., 1., 1., 1.],\n",
       "       [1., 1., 1., 1.],\n",
       "       [1., 1., 1., 1.],\n",
       "       [1., 1., 1., 1.]])"
      ]
     },
     "execution_count": 64,
     "metadata": {},
     "output_type": "execute_result"
    }
   ],
   "source": [
    "np.ones((5,4))"
   ]
  },
  {
   "cell_type": "code",
   "execution_count": 67,
   "id": "31084e63-aae0-4705-8cb1-5c7d5f624088",
   "metadata": {},
   "outputs": [
    {
     "data": {
      "text/plain": [
       "array([1.        , 1.22222222, 1.44444444, 1.66666667, 1.88888889,\n",
       "       2.11111111, 2.33333333, 2.55555556, 2.77777778, 3.        ])"
      ]
     },
     "execution_count": 67,
     "metadata": {},
     "output_type": "execute_result"
    }
   ],
   "source": [
    "np.linspace(1,3,10)  # in btwn 1 to 5, and 9 elements"
   ]
  },
  {
   "cell_type": "code",
   "execution_count": 73,
   "id": "80661b09-6edc-4e80-a573-f92910d3aae3",
   "metadata": {},
   "outputs": [
    {
     "data": {
      "text/plain": [
       "array([[1.        , 1.13793103],\n",
       "       [1.27586207, 1.4137931 ],\n",
       "       [1.55172414, 1.68965517],\n",
       "       [1.82758621, 1.96551724],\n",
       "       [2.10344828, 2.24137931],\n",
       "       [2.37931034, 2.51724138],\n",
       "       [2.65517241, 2.79310345],\n",
       "       [2.93103448, 3.06896552],\n",
       "       [3.20689655, 3.34482759],\n",
       "       [3.48275862, 3.62068966],\n",
       "       [3.75862069, 3.89655172],\n",
       "       [4.03448276, 4.17241379],\n",
       "       [4.31034483, 4.44827586],\n",
       "       [4.5862069 , 4.72413793],\n",
       "       [4.86206897, 5.        ]])"
      ]
     },
     "execution_count": 73,
     "metadata": {},
     "output_type": "execute_result"
    }
   ],
   "source": [
    "np.linspace(1,5,30).reshape(15,2)"
   ]
  },
  {
   "cell_type": "code",
   "execution_count": 76,
   "id": "c453a198",
   "metadata": {},
   "outputs": [],
   "source": [
    "import random"
   ]
  },
  {
   "cell_type": "code",
   "execution_count": 82,
   "id": "ff0450d5",
   "metadata": {},
   "outputs": [
    {
     "data": {
      "text/plain": [
       "4"
      ]
     },
     "execution_count": 82,
     "metadata": {},
     "output_type": "execute_result"
    }
   ],
   "source": [
    "random.randint(1,5)"
   ]
  },
  {
   "cell_type": "code",
   "execution_count": 84,
   "id": "cea9e22b-f13d-4890-88be-6352aa719ee5",
   "metadata": {},
   "outputs": [
    {
     "data": {
      "text/plain": [
       "array([2, 2, 3, 4, 1, 3, 1, 1, 1])"
      ]
     },
     "execution_count": 84,
     "metadata": {},
     "output_type": "execute_result"
    }
   ],
   "source": [
    "np.random.randint(1,5,9)"
   ]
  },
  {
   "cell_type": "code",
   "execution_count": 85,
   "id": "bbf4172c-16d8-41b8-83ba-f17335cd8187",
   "metadata": {},
   "outputs": [
    {
     "data": {
      "text/plain": [
       "array([[2, 3, 1, 1],\n",
       "       [2, 1, 1, 4],\n",
       "       [3, 4, 3, 3],\n",
       "       [1, 3, 3, 2],\n",
       "       [2, 3, 4, 2]])"
      ]
     },
     "execution_count": 85,
     "metadata": {},
     "output_type": "execute_result"
    }
   ],
   "source": [
    "np.random.randint(1,5,(5,4))\n"
   ]
  },
  {
   "cell_type": "code",
   "execution_count": 91,
   "id": "25caa785-494b-4f72-8a79-533151da568f",
   "metadata": {},
   "outputs": [
    {
     "data": {
      "text/plain": [
       "array([[0.56354827, 0.90844987, 0.06759235, 0.47727143],\n",
       "       [0.22554672, 0.67544667, 0.94847082, 0.48200441],\n",
       "       [0.73798038, 0.44379085, 0.07941943, 0.214031  ],\n",
       "       [0.84445779, 0.7692438 , 0.28091643, 0.54165266],\n",
       "       [0.83417417, 0.44485364, 0.85070661, 0.44347449]])"
      ]
     },
     "execution_count": 91,
     "metadata": {},
     "output_type": "execute_result"
    }
   ],
   "source": [
    "np.random.random((5,4))"
   ]
  },
  {
   "cell_type": "code",
   "execution_count": 99,
   "id": "da493308-7d93-4123-8a92-6e3eff8906c3",
   "metadata": {},
   "outputs": [
    {
     "data": {
      "text/plain": [
       "array([3, 6, 1, 4, 2, 6, 2, 8, 7, 6])"
      ]
     },
     "execution_count": 99,
     "metadata": {},
     "output_type": "execute_result"
    }
   ],
   "source": [
    "arr = np.random.randint(1,10,10)\n",
    "arr "
   ]
  },
  {
   "cell_type": "code",
   "execution_count": 111,
   "id": "a743765f-59b1-4dd3-880d-7012a72f878a",
   "metadata": {},
   "outputs": [
    {
     "data": {
      "text/plain": [
       "6"
      ]
     },
     "execution_count": 111,
     "metadata": {},
     "output_type": "execute_result"
    }
   ],
   "source": [
    "np.random.choice(arr)"
   ]
  },
  {
   "cell_type": "code",
   "execution_count": 125,
   "id": "47e6cc07-209c-4bf8-a771-f6b8829954b3",
   "metadata": {},
   "outputs": [
    {
     "data": {
      "text/plain": [
       "92"
      ]
     },
     "execution_count": 125,
     "metadata": {},
     "output_type": "execute_result"
    }
   ],
   "source": [
    "np.random.choice(np.array(list(range(1,101))))"
   ]
  },
  {
   "cell_type": "code",
   "execution_count": 126,
   "id": "9543d084-4c4d-448b-a167-8ebd7d0a8e0c",
   "metadata": {},
   "outputs": [],
   "source": [
    "import random "
   ]
  },
  {
   "cell_type": "code",
   "execution_count": null,
   "id": "e4a1f0d7-8bc2-459c-9922-08d6edea4747",
   "metadata": {},
   "outputs": [],
   "source": [
    "random.randint\n",
    "random.random\n",
    "random.choice\n",
    "random.choices"
   ]
  },
  {
   "cell_type": "code",
   "execution_count": 158,
   "id": "41e74b4e-e602-4205-8a5f-c34b96202232",
   "metadata": {},
   "outputs": [
    {
     "data": {
      "text/plain": [
       "array([ 7,  4, 16, 19, 18, 20,  1,  7,  3, 10, 19, 10, 16, 10,  9,  2, 13,\n",
       "       11, 19, 19])"
      ]
     },
     "execution_count": 158,
     "metadata": {},
     "output_type": "execute_result"
    }
   ],
   "source": [
    "arr = np.random.randint(1,25,20)\n",
    "arr "
   ]
  },
  {
   "cell_type": "code",
   "execution_count": 134,
   "id": "f1e15bd7",
   "metadata": {},
   "outputs": [
    {
     "data": {
      "text/plain": [
       "1"
      ]
     },
     "execution_count": 134,
     "metadata": {},
     "output_type": "execute_result"
    }
   ],
   "source": [
    "# arr.max()\n",
    "# arr.min()\n",
    "# np.argmax(arr)\n",
    "np.argmin(arr)"
   ]
  },
  {
   "cell_type": "code",
   "execution_count": 141,
   "id": "9eec7aba",
   "metadata": {},
   "outputs": [],
   "source": [
    "arr.sort()"
   ]
  },
  {
   "cell_type": "code",
   "execution_count": 155,
   "id": "1fce7ea5",
   "metadata": {},
   "outputs": [
    {
     "data": {
      "text/plain": [
       "array([24, 23, 21, 20, 18, 17, 16, 16, 13, 10,  5,  4,  4,  4,  4,  3,  2,\n",
       "        2,  2,  1])"
      ]
     },
     "execution_count": 155,
     "metadata": {},
     "output_type": "execute_result"
    }
   ],
   "source": [
    "arr[::-1]"
   ]
  },
  {
   "cell_type": "code",
   "execution_count": 164,
   "id": "5edd661b",
   "metadata": {},
   "outputs": [
    {
     "data": {
      "text/plain": [
       "array([ 7,  4, 16, 19, 18, 20,  1,  7,  3, 10, 19, 10, 16, 10,  9,  2, 13,\n",
       "       11, 19, 19])"
      ]
     },
     "execution_count": 164,
     "metadata": {},
     "output_type": "execute_result"
    }
   ],
   "source": [
    "arr"
   ]
  },
  {
   "cell_type": "code",
   "execution_count": 163,
   "id": "c8752fd7",
   "metadata": {},
   "outputs": [
    {
     "data": {
      "text/plain": [
       "array([ 6, 15,  8,  1,  0,  7, 14, 13, 11,  9, 17, 16, 12,  2,  4, 10,  3,\n",
       "       18, 19,  5])"
      ]
     },
     "execution_count": 163,
     "metadata": {},
     "output_type": "execute_result"
    }
   ],
   "source": [
    "np.argsort(arr,axis=0)"
   ]
  },
  {
   "cell_type": "code",
   "execution_count": 166,
   "id": "700a01d8",
   "metadata": {},
   "outputs": [
    {
     "data": {
      "text/plain": [
       "array([[13,  5,  7,  2],\n",
       "       [13, 18, 16,  2],\n",
       "       [ 3,  4, 12, 15],\n",
       "       [ 9,  4, 18,  8],\n",
       "       [10, 12, 15, 13]])"
      ]
     },
     "execution_count": 166,
     "metadata": {},
     "output_type": "execute_result"
    }
   ],
   "source": [
    "arr = np.random.randint(1,20,(5,4))\n",
    "arr"
   ]
  },
  {
   "cell_type": "code",
   "execution_count": 167,
   "id": "9ad7e9f5",
   "metadata": {},
   "outputs": [
    {
     "data": {
      "text/plain": [
       "array([[3, 1, 2, 0],\n",
       "       [3, 0, 2, 1],\n",
       "       [0, 1, 2, 3],\n",
       "       [1, 3, 0, 2],\n",
       "       [0, 1, 3, 2]])"
      ]
     },
     "execution_count": 167,
     "metadata": {},
     "output_type": "execute_result"
    }
   ],
   "source": [
    "np.argsort(arr)"
   ]
  },
  {
   "cell_type": "code",
   "execution_count": 170,
   "id": "04bbcbcb",
   "metadata": {},
   "outputs": [
    {
     "data": {
      "text/plain": [
       "array([13,  5,  7,  2, 13, 18, 16,  2,  3,  4, 12, 15,  9,  4, 18,  8, 10,\n",
       "       12, 15, 13])"
      ]
     },
     "execution_count": 170,
     "metadata": {},
     "output_type": "execute_result"
    }
   ],
   "source": [
    "arr = arr.ravel()\n",
    "arr"
   ]
  },
  {
   "cell_type": "code",
   "execution_count": 172,
   "id": "53eacf49",
   "metadata": {},
   "outputs": [],
   "source": [
    "arr1 = np.random.randint(1,20,10)\n",
    "arr2 = np.random.randint(1,20,10)\n"
   ]
  },
  {
   "cell_type": "code",
   "execution_count": 176,
   "id": "f253ed66",
   "metadata": {},
   "outputs": [
    {
     "data": {
      "text/plain": [
       "array([ 7,  1, 13,  1,  4, 11,  7, 17,  7,  7])"
      ]
     },
     "execution_count": 176,
     "metadata": {},
     "output_type": "execute_result"
    }
   ],
   "source": [
    "arr1"
   ]
  },
  {
   "cell_type": "code",
   "execution_count": 174,
   "id": "bb3178f0",
   "metadata": {},
   "outputs": [
    {
     "data": {
      "text/plain": [
       "array([14, 11, 18,  7, 10,  2, 11,  6,  7,  2])"
      ]
     },
     "execution_count": 174,
     "metadata": {},
     "output_type": "execute_result"
    }
   ],
   "source": [
    "arr2"
   ]
  },
  {
   "cell_type": "code",
   "execution_count": 177,
   "id": "338ed65c",
   "metadata": {},
   "outputs": [
    {
     "data": {
      "text/plain": [
       "array([21, 12, 31,  8, 14, 13, 18, 23, 14,  9])"
      ]
     },
     "execution_count": 177,
     "metadata": {},
     "output_type": "execute_result"
    }
   ],
   "source": [
    "arr1 + arr2"
   ]
  },
  {
   "cell_type": "code",
   "execution_count": 181,
   "id": "f5574417",
   "metadata": {},
   "outputs": [],
   "source": [
    "arr1 = np.random.randint(1,5,4)\n",
    "arr2 = np.random.randint(1,10,(5,4))"
   ]
  },
  {
   "cell_type": "code",
   "execution_count": 184,
   "id": "fc04ab3a",
   "metadata": {},
   "outputs": [
    {
     "data": {
      "text/plain": [
       "array([3, 3, 2, 4])"
      ]
     },
     "execution_count": 184,
     "metadata": {},
     "output_type": "execute_result"
    }
   ],
   "source": [
    "arr1"
   ]
  },
  {
   "cell_type": "code",
   "execution_count": 185,
   "id": "0df0f0b8",
   "metadata": {},
   "outputs": [
    {
     "data": {
      "text/plain": [
       "array([[8, 4, 4, 2],\n",
       "       [4, 1, 5, 9],\n",
       "       [6, 2, 5, 4],\n",
       "       [1, 1, 9, 6],\n",
       "       [8, 4, 6, 1]])"
      ]
     },
     "execution_count": 185,
     "metadata": {},
     "output_type": "execute_result"
    }
   ],
   "source": [
    "arr2"
   ]
  },
  {
   "cell_type": "code",
   "execution_count": 183,
   "id": "9f0b204c",
   "metadata": {},
   "outputs": [
    {
     "data": {
      "text/plain": [
       "array([[11,  7,  6,  6],\n",
       "       [ 7,  4,  7, 13],\n",
       "       [ 9,  5,  7,  8],\n",
       "       [ 4,  4, 11, 10],\n",
       "       [11,  7,  8,  5]])"
      ]
     },
     "execution_count": 183,
     "metadata": {},
     "output_type": "execute_result"
    }
   ],
   "source": [
    "arr2+arr1"
   ]
  },
  {
   "cell_type": "code",
   "execution_count": 191,
   "id": "95221735",
   "metadata": {},
   "outputs": [
    {
     "data": {
      "text/plain": [
       "array([[8, 4, 4, 2],\n",
       "       [4, 1, 5, 9],\n",
       "       [6, 2, 5, 4],\n",
       "       [1, 1, 9, 6],\n",
       "       [8, 4, 6, 1]])"
      ]
     },
     "execution_count": 191,
     "metadata": {},
     "output_type": "execute_result"
    }
   ],
   "source": [
    "arr2"
   ]
  },
  {
   "cell_type": "code",
   "execution_count": 193,
   "id": "2137ffbd",
   "metadata": {},
   "outputs": [
    {
     "data": {
      "text/plain": [
       "array([[8, 4, 4, 2],\n",
       "       [4, 1, 5, 9],\n",
       "       [6, 2, 5, 4],\n",
       "       [1, 1, 9, 6],\n",
       "       [8, 4, 6, 1]])"
      ]
     },
     "execution_count": 193,
     "metadata": {},
     "output_type": "execute_result"
    }
   ],
   "source": [
    "arr3"
   ]
  },
  {
   "cell_type": "code",
   "execution_count": 194,
   "id": "13f2ab40",
   "metadata": {},
   "outputs": [
    {
     "data": {
      "text/plain": [
       "array([[16,  8,  8,  4],\n",
       "       [ 8,  2, 10, 18],\n",
       "       [12,  4, 10,  8],\n",
       "       [ 2,  2, 18, 12],\n",
       "       [16,  8, 12,  2]])"
      ]
     },
     "execution_count": 194,
     "metadata": {},
     "output_type": "execute_result"
    }
   ],
   "source": [
    "arr2 + arr3 "
   ]
  },
  {
   "cell_type": "code",
   "execution_count": null,
   "id": "bad3acef",
   "metadata": {},
   "outputs": [],
   "source": [
    "np.where()\n",
    "np.argwhere()"
   ]
  },
  {
   "cell_type": "code",
   "execution_count": 199,
   "id": "7e3d5124",
   "metadata": {},
   "outputs": [
    {
     "data": {
      "text/plain": [
       "array([4, 5])"
      ]
     },
     "execution_count": 199,
     "metadata": {},
     "output_type": "execute_result"
    }
   ],
   "source": [
    "import numpy as np\n",
    "\n",
    "arr = np.array([1, 2, 3, 4, 5])\n",
    "\n",
    "# indices = np.where(array > 2)\n",
    "# print(indices)\n",
    "\n",
    "\n",
    "arr[arr>3]\n",
    "\n"
   ]
  }
 ],
 "metadata": {
  "kernelspec": {
   "display_name": "Python 3 (ipykernel)",
   "language": "python",
   "name": "python3"
  },
  "language_info": {
   "codemirror_mode": {
    "name": "ipython",
    "version": 3
   },
   "file_extension": ".py",
   "mimetype": "text/x-python",
   "name": "python",
   "nbconvert_exporter": "python",
   "pygments_lexer": "ipython3",
   "version": "3.8.10"
  }
 },
 "nbformat": 4,
 "nbformat_minor": 5
}
